{
  "nbformat": 4,
  "nbformat_minor": 0,
  "metadata": {
    "colab": {
      "provenance": []
    },
    "kernelspec": {
      "name": "python3",
      "display_name": "Python 3"
    },
    "language_info": {
      "name": "python"
    }
  },
  "cells": [
    {
      "cell_type": "code",
      "execution_count": 14,
      "metadata": {
        "id": "RDnklOrgAOBf",
        "outputId": "e63a163f-f90a-4d2c-aaa7-a08291a7ff22",
        "colab": {
          "base_uri": "https://localhost:8080/",
          "height": 349
        }
      },
      "outputs": [
        {
          "output_type": "error",
          "ename": "FileNotFoundError",
          "evalue": "[Errno 2] No such file or directory: 'your_service_account.json'",
          "traceback": [
            "\u001b[0;31m---------------------------------------------------------------------------\u001b[0m",
            "\u001b[0;31mFileNotFoundError\u001b[0m                         Traceback (most recent call last)",
            "\u001b[0;32m<ipython-input-14-39de2d25a886>\u001b[0m in \u001b[0;36m<cell line: 0>\u001b[0;34m()\u001b[0m\n\u001b[1;32m     73\u001b[0m \u001b[0;31m# Googleスプレッドシート書き出し設定\u001b[0m\u001b[0;34m\u001b[0m\u001b[0;34m\u001b[0m\u001b[0m\n\u001b[1;32m     74\u001b[0m \u001b[0mscope\u001b[0m \u001b[0;34m=\u001b[0m \u001b[0;34m[\u001b[0m\u001b[0;34m'https://spreadsheets.google.com/feeds'\u001b[0m\u001b[0;34m,\u001b[0m \u001b[0;34m'https://www.googleapis.com/auth/drive'\u001b[0m\u001b[0;34m]\u001b[0m\u001b[0;34m\u001b[0m\u001b[0;34m\u001b[0m\u001b[0m\n\u001b[0;32m---> 75\u001b[0;31m \u001b[0mcreds\u001b[0m \u001b[0;34m=\u001b[0m \u001b[0mServiceAccountCredentials\u001b[0m\u001b[0;34m.\u001b[0m\u001b[0mfrom_json_keyfile_name\u001b[0m\u001b[0;34m(\u001b[0m\u001b[0;34m'your_service_account.json'\u001b[0m\u001b[0;34m,\u001b[0m \u001b[0mscope\u001b[0m\u001b[0;34m)\u001b[0m\u001b[0;34m\u001b[0m\u001b[0;34m\u001b[0m\u001b[0m\n\u001b[0m\u001b[1;32m     76\u001b[0m \u001b[0mgc\u001b[0m \u001b[0;34m=\u001b[0m \u001b[0mgspread\u001b[0m\u001b[0;34m.\u001b[0m\u001b[0mauthorize\u001b[0m\u001b[0;34m(\u001b[0m\u001b[0mcreds\u001b[0m\u001b[0;34m)\u001b[0m\u001b[0;34m\u001b[0m\u001b[0;34m\u001b[0m\u001b[0m\n\u001b[1;32m     77\u001b[0m \u001b[0;34m\u001b[0m\u001b[0m\n",
            "\u001b[0;32m/usr/local/lib/python3.11/dist-packages/oauth2client/service_account.py\u001b[0m in \u001b[0;36mfrom_json_keyfile_name\u001b[0;34m(cls, filename, scopes, token_uri, revoke_uri)\u001b[0m\n\u001b[1;32m    217\u001b[0m                 \u001b[0mthe\u001b[0m \u001b[0mkeyfile\u001b[0m\u001b[0;34m.\u001b[0m\u001b[0;34m\u001b[0m\u001b[0;34m\u001b[0m\u001b[0m\n\u001b[1;32m    218\u001b[0m         \"\"\"\n\u001b[0;32m--> 219\u001b[0;31m         \u001b[0;32mwith\u001b[0m \u001b[0mopen\u001b[0m\u001b[0;34m(\u001b[0m\u001b[0mfilename\u001b[0m\u001b[0;34m,\u001b[0m \u001b[0;34m'r'\u001b[0m\u001b[0;34m)\u001b[0m \u001b[0;32mas\u001b[0m \u001b[0mfile_obj\u001b[0m\u001b[0;34m:\u001b[0m\u001b[0;34m\u001b[0m\u001b[0;34m\u001b[0m\u001b[0m\n\u001b[0m\u001b[1;32m    220\u001b[0m             \u001b[0mclient_credentials\u001b[0m \u001b[0;34m=\u001b[0m \u001b[0mjson\u001b[0m\u001b[0;34m.\u001b[0m\u001b[0mload\u001b[0m\u001b[0;34m(\u001b[0m\u001b[0mfile_obj\u001b[0m\u001b[0;34m)\u001b[0m\u001b[0;34m\u001b[0m\u001b[0;34m\u001b[0m\u001b[0m\n\u001b[1;32m    221\u001b[0m         return cls._from_parsed_json_keyfile(client_credentials, scopes,\n",
            "\u001b[0;31mFileNotFoundError\u001b[0m: [Errno 2] No such file or directory: 'your_service_account.json'"
          ]
        }
      ],
      "source": [
        "import time\n",
        "import re\n",
        "import pandas as pd\n",
        "from selenium import webdriver\n",
        "from selenium.webdriver.chrome.options import Options\n",
        "from bs4 import BeautifulSoup\n",
        "import gspread\n",
        "from gspread_dataframe import set_with_dataframe\n",
        "from oauth2client.service_account import ServiceAccountCredentials\n",
        "\n",
        "def get_dlsite_ranking_selenium(url, label):\n",
        "    options = Options()\n",
        "    options.add_argument(\"--headless\")\n",
        "    options.add_argument(\"--no-sandbox\")\n",
        "    options.add_argument(\"--disable-dev-shm-usage\")\n",
        "    driver = webdriver.Chrome(options=options)\n",
        "\n",
        "    driver.get(url)\n",
        "    time.sleep(3)\n",
        "\n",
        "    soup = BeautifulSoup(driver.page_source, 'html.parser')\n",
        "    driver.quit()\n",
        "\n",
        "    items = soup.select(\"li[class^='n-work']\")[:10]\n",
        "    data = []\n",
        "\n",
        "    for item in items:\n",
        "        title = item.select_one(\"span.title\").get_text(strip=True)\n",
        "        circle = item.select_one(\"span.maker_name\").get_text(strip=True)\n",
        "        link = item.select_one(\"a\")[\"href\"]\n",
        "        work_id = re.search(r\"/RJ(\\d+)\", link)\n",
        "        work_id = \"RJ\" + work_id.group(1) if work_id else \"不明\"\n",
        "\n",
        "        try:\n",
        "            seiyu = item.select_one(\"span.cast\").get_text(strip=True)\n",
        "        except:\n",
        "            seiyu = \"不明\"\n",
        "\n",
        "        try:\n",
        "            genre = item.select_one(\"span.genre\").get_text(strip=True)\n",
        "        except:\n",
        "            genre = \"不明\"\n",
        "\n",
        "        try:\n",
        "            price = item.select_one(\"span.price\").get_text(strip=True)\n",
        "        except:\n",
        "            price = \"不明\"\n",
        "\n",
        "        data.append({\n",
        "            \"区分\": label,\n",
        "            \"管理ID\": work_id,\n",
        "            \"タイトル\": title,\n",
        "            \"作品ページURL\": f\"https://www.dlsite.com{link}\",\n",
        "            \"声優名\": seiyu,\n",
        "            \"サークル名\": circle,\n",
        "            \"ジャンル\": genre,\n",
        "            \"価格\": price\n",
        "        })\n",
        "\n",
        "    return data\n",
        "\n",
        "# 取得対象URL\n",
        "home_url = \"https://www.dlsite.com/home/ranking/=/term/7d/work_type/voice\"\n",
        "r18_url = \"https://www.dlsite.com/maniax/ranking/=/term/7d/work_type/voice\"\n",
        "\n",
        "# データ取得\n",
        "home_data = get_dlsite_ranking_selenium(home_url, \"全年齢\")\n",
        "r18_data = get_dlsite_ranking_selenium(r18_url, \"R18\")\n",
        "\n",
        "# 結合・データフレーム化\n",
        "df = pd.DataFrame(home_data + r18_data)\n",
        "\n",
        "# Googleスプレッドシート書き出し設定\n",
        "scope = ['https://spreadsheets.google.com/feeds', 'https://www.googleapis.com/auth/drive']\n",
        "creds = ServiceAccountCredentials.from_json_keyfile_name('your_service_account.json', scope)\n",
        "gc = gspread.authorize(creds)\n",
        "\n",
        "spreadsheet = gc.create(\"DLsiteランキング出力\")\n",
        "spreadsheet.share('', perm_type='anyone', role='writer')  # 公開設定（必要なら編集）\n",
        "\n",
        "worksheet = spreadsheet.get_worksheet(0)\n",
        "worksheet.update_title(\"ランキングデータ\")\n",
        "\n",
        "# スプレッドシートに書き込み\n",
        "set_with_dataframe(worksheet, df)\n",
        "print(\"✅ スプレッドシートに出力完了！\")\n",
        "print(spreadsheet.url)\n"
      ]
    },
    {
      "cell_type": "code",
      "source": [],
      "metadata": {
        "id": "1R2D_5XCNXVF"
      },
      "execution_count": null,
      "outputs": []
    }
  ]
}